{
  "nbformat": 4,
  "nbformat_minor": 0,
  "metadata": {
    "colab": {
      "provenance": []
    },
    "kernelspec": {
      "name": "python3",
      "display_name": "Python 3"
    },
    "language_info": {
      "name": "python"
    }
  },
  "cells": [
    {
      "cell_type": "code",
      "execution_count": 1,
      "metadata": {
        "id": "Bpwn9MsAIuat"
      },
      "outputs": [],
      "source": [
        "import pandas as pd"
      ]
    },
    {
      "cell_type": "markdown",
      "source": [
        "# **PART 1**"
      ],
      "metadata": {
        "id": "873RIaOzJ7VY"
      }
    },
    {
      "cell_type": "code",
      "source": [
        "read_file='/content/sample_data/california_housing_train.csv'\n",
        "df=pd.read_csv(read_file)"
      ],
      "metadata": {
        "id": "gP3B33PkJFZY"
      },
      "execution_count": 2,
      "outputs": []
    },
    {
      "cell_type": "code",
      "source": [
        "print(df.head(5))"
      ],
      "metadata": {
        "colab": {
          "base_uri": "https://localhost:8080/"
        },
        "id": "p0wJmf2rJOIj",
        "outputId": "acf8950a-0b4a-49c5-9d9e-56febe204a93"
      },
      "execution_count": 3,
      "outputs": [
        {
          "output_type": "stream",
          "name": "stdout",
          "text": [
            "   longitude  latitude  housing_median_age  total_rooms  total_bedrooms  \\\n",
            "0    -114.31     34.19                15.0       5612.0          1283.0   \n",
            "1    -114.47     34.40                19.0       7650.0          1901.0   \n",
            "2    -114.56     33.69                17.0        720.0           174.0   \n",
            "3    -114.57     33.64                14.0       1501.0           337.0   \n",
            "4    -114.57     33.57                20.0       1454.0           326.0   \n",
            "\n",
            "   population  households  median_income  median_house_value  \n",
            "0      1015.0       472.0         1.4936             66900.0  \n",
            "1      1129.0       463.0         1.8200             80100.0  \n",
            "2       333.0       117.0         1.6509             85700.0  \n",
            "3       515.0       226.0         3.1917             73400.0  \n",
            "4       624.0       262.0         1.9250             65500.0  \n"
          ]
        }
      ]
    },
    {
      "cell_type": "code",
      "source": [
        "print(df.tail(10))"
      ],
      "metadata": {
        "colab": {
          "base_uri": "https://localhost:8080/"
        },
        "id": "6vB0W8PbJWZ7",
        "outputId": "6ab4535f-f404-45d5-8063-582f2a6584ff"
      },
      "execution_count": 4,
      "outputs": [
        {
          "output_type": "stream",
          "name": "stdout",
          "text": [
            "       longitude  latitude  housing_median_age  total_rooms  total_bedrooms  \\\n",
            "16990    -124.22     41.73                28.0       3003.0           699.0   \n",
            "16991    -124.23     41.75                11.0       3159.0           616.0   \n",
            "16992    -124.23     40.81                52.0       1112.0           209.0   \n",
            "16993    -124.23     40.54                52.0       2694.0           453.0   \n",
            "16994    -124.25     40.28                32.0       1430.0           419.0   \n",
            "16995    -124.26     40.58                52.0       2217.0           394.0   \n",
            "16996    -124.27     40.69                36.0       2349.0           528.0   \n",
            "16997    -124.30     41.84                17.0       2677.0           531.0   \n",
            "16998    -124.30     41.80                19.0       2672.0           552.0   \n",
            "16999    -124.35     40.54                52.0       1820.0           300.0   \n",
            "\n",
            "       population  households  median_income  median_house_value  \n",
            "16990      1530.0       653.0         1.7038             78300.0  \n",
            "16991      1343.0       479.0         2.4805             73200.0  \n",
            "16992       544.0       172.0         3.3462             50800.0  \n",
            "16993      1152.0       435.0         3.0806            106700.0  \n",
            "16994       434.0       187.0         1.9417             76100.0  \n",
            "16995       907.0       369.0         2.3571            111400.0  \n",
            "16996      1194.0       465.0         2.5179             79000.0  \n",
            "16997      1244.0       456.0         3.0313            103600.0  \n",
            "16998      1298.0       478.0         1.9797             85800.0  \n",
            "16999       806.0       270.0         3.0147             94600.0  \n"
          ]
        }
      ]
    },
    {
      "cell_type": "code",
      "source": [
        "print(df.describe())"
      ],
      "metadata": {
        "id": "9m-dWeyxJrAb",
        "colab": {
          "base_uri": "https://localhost:8080/"
        },
        "outputId": "7fc7bf66-2a19-450d-f988-14a628193562"
      },
      "execution_count": 5,
      "outputs": [
        {
          "output_type": "stream",
          "name": "stdout",
          "text": [
            "          longitude      latitude  housing_median_age   total_rooms  \\\n",
            "count  17000.000000  17000.000000        17000.000000  17000.000000   \n",
            "mean    -119.562108     35.625225           28.589353   2643.664412   \n",
            "std        2.005166      2.137340           12.586937   2179.947071   \n",
            "min     -124.350000     32.540000            1.000000      2.000000   \n",
            "25%     -121.790000     33.930000           18.000000   1462.000000   \n",
            "50%     -118.490000     34.250000           29.000000   2127.000000   \n",
            "75%     -118.000000     37.720000           37.000000   3151.250000   \n",
            "max     -114.310000     41.950000           52.000000  37937.000000   \n",
            "\n",
            "       total_bedrooms    population    households  median_income  \\\n",
            "count    17000.000000  17000.000000  17000.000000   17000.000000   \n",
            "mean       539.410824   1429.573941    501.221941       3.883578   \n",
            "std        421.499452   1147.852959    384.520841       1.908157   \n",
            "min          1.000000      3.000000      1.000000       0.499900   \n",
            "25%        297.000000    790.000000    282.000000       2.566375   \n",
            "50%        434.000000   1167.000000    409.000000       3.544600   \n",
            "75%        648.250000   1721.000000    605.250000       4.767000   \n",
            "max       6445.000000  35682.000000   6082.000000      15.000100   \n",
            "\n",
            "       median_house_value  \n",
            "count        17000.000000  \n",
            "mean        207300.912353  \n",
            "std         115983.764387  \n",
            "min          14999.000000  \n",
            "25%         119400.000000  \n",
            "50%         180400.000000  \n",
            "75%         265000.000000  \n",
            "max         500001.000000  \n"
          ]
        }
      ]
    },
    {
      "cell_type": "code",
      "source": [
        "unique=df['total_bedrooms'].unique()\n",
        "print(unique)"
      ],
      "metadata": {
        "colab": {
          "base_uri": "https://localhost:8080/"
        },
        "id": "FIArQ6ssdTEZ",
        "outputId": "bfc39264-c357-414c-d382-3e7ad3d77f08"
      },
      "execution_count": 6,
      "outputs": [
        {
          "output_type": "stream",
          "name": "stdout",
          "text": [
            "[1283. 1901.  174. ... 1637. 1308.  936.]\n"
          ]
        }
      ]
    },
    {
      "cell_type": "code",
      "source": [
        "total_bedrooms_per_total_rooms=df['total_bedrooms']/df['households']\n",
        "df['total_bedrooms_per_total_rooms']=total_bedrooms_per_total_rooms\n",
        "print(df)"
      ],
      "metadata": {
        "colab": {
          "base_uri": "https://localhost:8080/"
        },
        "id": "ih9uQkUddxSR",
        "outputId": "dbd54fb6-dce2-40fd-8c63-9afb9174d160"
      },
      "execution_count": 7,
      "outputs": [
        {
          "output_type": "stream",
          "name": "stdout",
          "text": [
            "       longitude  latitude  housing_median_age  total_rooms  total_bedrooms  \\\n",
            "0        -114.31     34.19                15.0       5612.0          1283.0   \n",
            "1        -114.47     34.40                19.0       7650.0          1901.0   \n",
            "2        -114.56     33.69                17.0        720.0           174.0   \n",
            "3        -114.57     33.64                14.0       1501.0           337.0   \n",
            "4        -114.57     33.57                20.0       1454.0           326.0   \n",
            "...          ...       ...                 ...          ...             ...   \n",
            "16995    -124.26     40.58                52.0       2217.0           394.0   \n",
            "16996    -124.27     40.69                36.0       2349.0           528.0   \n",
            "16997    -124.30     41.84                17.0       2677.0           531.0   \n",
            "16998    -124.30     41.80                19.0       2672.0           552.0   \n",
            "16999    -124.35     40.54                52.0       1820.0           300.0   \n",
            "\n",
            "       population  households  median_income  median_house_value  \\\n",
            "0          1015.0       472.0         1.4936             66900.0   \n",
            "1          1129.0       463.0         1.8200             80100.0   \n",
            "2           333.0       117.0         1.6509             85700.0   \n",
            "3           515.0       226.0         3.1917             73400.0   \n",
            "4           624.0       262.0         1.9250             65500.0   \n",
            "...           ...         ...            ...                 ...   \n",
            "16995       907.0       369.0         2.3571            111400.0   \n",
            "16996      1194.0       465.0         2.5179             79000.0   \n",
            "16997      1244.0       456.0         3.0313            103600.0   \n",
            "16998      1298.0       478.0         1.9797             85800.0   \n",
            "16999       806.0       270.0         3.0147             94600.0   \n",
            "\n",
            "       total_bedrooms_per_total_rooms  \n",
            "0                            2.718220  \n",
            "1                            4.105832  \n",
            "2                            1.487179  \n",
            "3                            1.491150  \n",
            "4                            1.244275  \n",
            "...                               ...  \n",
            "16995                        1.067751  \n",
            "16996                        1.135484  \n",
            "16997                        1.164474  \n",
            "16998                        1.154812  \n",
            "16999                        1.111111  \n",
            "\n",
            "[17000 rows x 10 columns]\n"
          ]
        }
      ]
    },
    {
      "cell_type": "code",
      "source": [
        "mn=df['total_bedrooms_per_total_rooms'].mean()\n",
        "sd=df['total_bedrooms_per_total_rooms'].std()\n",
        "print('mean is',mn)\n",
        "print('Standard deviation is',sd)"
      ],
      "metadata": {
        "colab": {
          "base_uri": "https://localhost:8080/"
        },
        "id": "cCgiDjZEestJ",
        "outputId": "e47f4818-6437-459e-8215-c967a302179a"
      },
      "execution_count": 8,
      "outputs": [
        {
          "output_type": "stream",
          "name": "stdout",
          "text": [
            "mean is 1.0972809315785887\n",
            "Standard deviation is 0.48905722079732394\n"
          ]
        }
      ]
    },
    {
      "cell_type": "code",
      "source": [
        "print(df.loc[df['median_income']>5])"
      ],
      "metadata": {
        "colab": {
          "base_uri": "https://localhost:8080/"
        },
        "id": "cCh7hm4ie8_3",
        "outputId": "5d1a57cf-4ca3-4e2d-c7b7-95a6a4e7176c"
      },
      "execution_count": 9,
      "outputs": [
        {
          "output_type": "stream",
          "name": "stdout",
          "text": [
            "       longitude  latitude  housing_median_age  total_rooms  total_bedrooms  \\\n",
            "32       -115.39     32.76                16.0       1136.0           196.0   \n",
            "69       -115.55     32.98                33.0       2266.0           365.0   \n",
            "92       -115.57     32.78                20.0       1534.0           235.0   \n",
            "98       -115.58     32.78                 5.0       2494.0           414.0   \n",
            "100      -115.59     32.79                 8.0       2183.0           307.0   \n",
            "...          ...       ...                 ...          ...             ...   \n",
            "16737    -122.89     38.38                16.0       2017.0           369.0   \n",
            "16762    -122.94     38.57                33.0       1530.0           266.0   \n",
            "16776    -123.00     38.33                 8.0       3223.0           637.0   \n",
            "16802    -123.17     39.18                14.0       2240.0           327.0   \n",
            "16899    -124.05     40.94                14.0       1452.0           217.0   \n",
            "\n",
            "       population  households  median_income  median_house_value  \\\n",
            "32          481.0       185.0         6.2558            146300.0   \n",
            "69          952.0       360.0         5.4349            143000.0   \n",
            "92          871.0       222.0         6.2715             97200.0   \n",
            "98         1416.0       421.0         5.7843            110100.0   \n",
            "100        1000.0       287.0         6.3814            159900.0   \n",
            "...           ...         ...            ...                 ...   \n",
            "16737       931.0       336.0         5.7664            267500.0   \n",
            "16762       728.0       250.0         5.1005            266700.0   \n",
            "16776       851.0       418.0         5.6445            364800.0   \n",
            "16802      1030.0       308.0         5.9585            214900.0   \n",
            "16899       516.0       181.0         5.0329            165600.0   \n",
            "\n",
            "       total_bedrooms_per_total_rooms  \n",
            "32                           1.059459  \n",
            "69                           1.013889  \n",
            "92                           1.058559  \n",
            "98                           0.983373  \n",
            "100                          1.069686  \n",
            "...                               ...  \n",
            "16737                        1.098214  \n",
            "16762                        1.064000  \n",
            "16776                        1.523923  \n",
            "16802                        1.061688  \n",
            "16899                        1.198895  \n",
            "\n",
            "[3752 rows x 10 columns]\n"
          ]
        }
      ]
    },
    {
      "cell_type": "code",
      "source": [
        "df2=df.loc[(df['total_rooms']>10000)&(df['median_house_value']<150000)]\n",
        "print(df2)"
      ],
      "metadata": {
        "colab": {
          "base_uri": "https://localhost:8080/"
        },
        "id": "Ljl34s3SnVdd",
        "outputId": "fe01425d-b1aa-4fb1-c46d-26c80f79b94e"
      },
      "execution_count": 10,
      "outputs": [
        {
          "output_type": "stream",
          "name": "stdout",
          "text": [
            "       longitude  latitude  housing_median_age  total_rooms  total_bedrooms  \\\n",
            "133      -116.06     34.15                15.0      10377.0          2331.0   \n",
            "191      -116.36     33.88                11.0      12557.0          3098.0   \n",
            "198      -116.38     33.73                10.0      11836.0          2405.0   \n",
            "201      -116.39     33.82                15.0      11115.0          2257.0   \n",
            "229      -116.47     33.81                 7.0      10105.0          2481.0   \n",
            "...          ...       ...                 ...          ...             ...   \n",
            "12654    -121.75     38.67                 9.0      12139.0          2640.0   \n",
            "12772    -121.79     36.64                11.0      32627.0          6445.0   \n",
            "13388    -121.94     38.27                35.0      10869.0          2226.0   \n",
            "13707    -122.00     38.25                 7.0      11768.0          1893.0   \n",
            "15436    -122.31     40.55                11.0      13714.0          2302.0   \n",
            "\n",
            "       population  households  median_income  median_house_value  \\\n",
            "133        4507.0      1807.0         2.2466             66800.0   \n",
            "191        2453.0      1232.0         1.7844             78500.0   \n",
            "198        3811.0      1570.0         4.0079            134500.0   \n",
            "201        4122.0      1653.0         2.7219             74400.0   \n",
            "229        6274.0      2095.0         2.4497             90900.0   \n",
            "...           ...         ...            ...                 ...   \n",
            "12654      6837.0      2358.0         3.1250            132500.0   \n",
            "12772     28566.0      6082.0         2.3087            118800.0   \n",
            "13388      9879.0      2152.0         2.5681             81300.0   \n",
            "13707      6657.0      1874.0         4.9222            142900.0   \n",
            "15436      6511.0      2267.0         3.5522            100100.0   \n",
            "\n",
            "       total_bedrooms_per_total_rooms  \n",
            "133                          1.289983  \n",
            "191                          2.514610  \n",
            "198                          1.531847  \n",
            "201                          1.365396  \n",
            "229                          1.184248  \n",
            "...                               ...  \n",
            "12654                        1.119593  \n",
            "12772                        1.059684  \n",
            "13388                        1.034387  \n",
            "13707                        1.010139  \n",
            "15436                        1.015439  \n",
            "\n",
            "[67 rows x 10 columns]\n"
          ]
        }
      ]
    },
    {
      "cell_type": "code",
      "source": [
        "df.to_csv('modiefied.csv')"
      ],
      "metadata": {
        "id": "v04btj_0qTRj"
      },
      "execution_count": 11,
      "outputs": []
    },
    {
      "cell_type": "markdown",
      "source": [
        "# **PART** **2**"
      ],
      "metadata": {
        "id": "afQG3vAvsb2l"
      }
    },
    {
      "cell_type": "code",
      "source": [
        "import numpy as np"
      ],
      "metadata": {
        "id": "Lhk2YTlquCLV"
      },
      "execution_count": 12,
      "outputs": []
    },
    {
      "cell_type": "code",
      "source": [
        "arr=np.arange(1,21)\n",
        "print(arr)"
      ],
      "metadata": {
        "colab": {
          "base_uri": "https://localhost:8080/"
        },
        "id": "mypBHhPQsKCj",
        "outputId": "bcc0a15e-5887-446b-a090-33e07d2f3d21"
      },
      "execution_count": 13,
      "outputs": [
        {
          "output_type": "stream",
          "name": "stdout",
          "text": [
            "[ 1  2  3  4  5  6  7  8  9 10 11 12 13 14 15 16 17 18 19 20]\n"
          ]
        }
      ]
    },
    {
      "cell_type": "code",
      "source": [
        "even_arr=arr[arr%2==0]\n",
        "print(even_arr)"
      ],
      "metadata": {
        "colab": {
          "base_uri": "https://localhost:8080/"
        },
        "id": "jRlRCOtAt6qu",
        "outputId": "b73cc15e-4b6e-44d9-9e4a-fd34e999fdea"
      },
      "execution_count": 14,
      "outputs": [
        {
          "output_type": "stream",
          "name": "stdout",
          "text": [
            "[ 2  4  6  8 10 12 14 16 18 20]\n"
          ]
        }
      ]
    },
    {
      "cell_type": "code",
      "source": [
        "d_arr=np.random.randint(10,100,size=(5,4))\n",
        "print(d_arr)"
      ],
      "metadata": {
        "colab": {
          "base_uri": "https://localhost:8080/"
        },
        "id": "EZqIlrJTuSAS",
        "outputId": "3e8626a5-1627-4a5b-f9f6-3cd2cf61926e"
      },
      "execution_count": 15,
      "outputs": [
        {
          "output_type": "stream",
          "name": "stdout",
          "text": [
            "[[94 85 15 51]\n",
            " [37 44 46 38]\n",
            " [16 69 29 93]\n",
            " [37 64 65 18]\n",
            " [66 38 40 71]]\n"
          ]
        }
      ]
    },
    {
      "cell_type": "code",
      "source": [
        "sub=d_arr[0:3,0:2]\n",
        "print(sub)"
      ],
      "metadata": {
        "colab": {
          "base_uri": "https://localhost:8080/"
        },
        "id": "QcUu74fDuc2v",
        "outputId": "7c68e105-a5d8-46ec-aae9-89fe97e96ff9"
      },
      "execution_count": 16,
      "outputs": [
        {
          "output_type": "stream",
          "name": "stdout",
          "text": [
            "[[94 85]\n",
            " [37 44]\n",
            " [16 69]]\n"
          ]
        }
      ]
    },
    {
      "cell_type": "code",
      "source": [
        "arr2=arr.reshape(4,5)\n",
        "print(arr2)"
      ],
      "metadata": {
        "colab": {
          "base_uri": "https://localhost:8080/"
        },
        "id": "CubFzJ__u98f",
        "outputId": "549267fc-edeb-43e7-e399-251f1c702cef"
      },
      "execution_count": 17,
      "outputs": [
        {
          "output_type": "stream",
          "name": "stdout",
          "text": [
            "[[ 1  2  3  4  5]\n",
            " [ 6  7  8  9 10]\n",
            " [11 12 13 14 15]\n",
            " [16 17 18 19 20]]\n"
          ]
        }
      ]
    },
    {
      "cell_type": "code",
      "source": [
        "arr2=arr2.ravel()\n",
        "print(arr2)"
      ],
      "metadata": {
        "colab": {
          "base_uri": "https://localhost:8080/"
        },
        "id": "A3WKcYOmvzoC",
        "outputId": "106c4a22-f84d-4580-b565-89e5384cdccc"
      },
      "execution_count": 18,
      "outputs": [
        {
          "output_type": "stream",
          "name": "stdout",
          "text": [
            "[ 1  2  3  4  5  6  7  8  9 10 11 12 13 14 15 16 17 18 19 20]\n"
          ]
        }
      ]
    },
    {
      "cell_type": "code",
      "source": [
        "arr3=np.random.randint(1,100,size=(4,5))\n",
        "print(d_arr.dot(arr3))"
      ],
      "metadata": {
        "colab": {
          "base_uri": "https://localhost:8080/"
        },
        "id": "bJthdd-0v8iW",
        "outputId": "14e5d7bd-c195-4693-c1cd-8fb02762552b"
      },
      "execution_count": 19,
      "outputs": [
        {
          "output_type": "stream",
          "name": "stdout",
          "text": [
            "[[13522 13883 11712 14358 11220]\n",
            " [ 8985 10228  8464 10895  7654]\n",
            " [10234 15027 13412 15676  7720]\n",
            " [10406 10866  9700 12302  8755]\n",
            " [11448 13376  9978 13305 10057]]\n"
          ]
        }
      ]
    },
    {
      "cell_type": "code",
      "source": [
        "new_arr=np.random.randint(0,100,size=(50))\n",
        "print(new_arr)"
      ],
      "metadata": {
        "colab": {
          "base_uri": "https://localhost:8080/"
        },
        "id": "pf_yEASE15AL",
        "outputId": "bf4930a2-6a7a-4c73-92f8-8da78be3e5e2"
      },
      "execution_count": 20,
      "outputs": [
        {
          "output_type": "stream",
          "name": "stdout",
          "text": [
            "[44 32  1 12 30 74 85  1 49 69 15 69 19 62 54 98 29 90 31 64 89 40 55 21\n",
            " 32 20 34 38 22 92 76  4 69 43 67 57 99 61  7 73 66 61  8 19 48 56 22 71\n",
            " 28 33]\n"
          ]
        }
      ]
    },
    {
      "cell_type": "code",
      "source": [
        "sliced=new_arr[new_arr>50]\n",
        "print(sliced)"
      ],
      "metadata": {
        "colab": {
          "base_uri": "https://localhost:8080/"
        },
        "id": "Q_JKmkXn2os1",
        "outputId": "591d80bd-de07-4845-8d61-4043e6f32b33"
      },
      "execution_count": 21,
      "outputs": [
        {
          "output_type": "stream",
          "name": "stdout",
          "text": [
            "[74 85 69 69 62 54 98 90 64 89 55 92 76 69 67 57 99 61 73 66 61 56 71]\n"
          ]
        }
      ]
    },
    {
      "cell_type": "code",
      "source": [
        "index=[0,2,4,6,8,49]\n",
        "fancy=new_arr[index]\n",
        "print(fancy)"
      ],
      "metadata": {
        "colab": {
          "base_uri": "https://localhost:8080/"
        },
        "id": "ccu66uyf25te",
        "outputId": "dd65429d-8106-4eb4-cbbc-8971f1e59ba9"
      },
      "execution_count": 22,
      "outputs": [
        {
          "output_type": "stream",
          "name": "stdout",
          "text": [
            "[44  1 30 85 49 33]\n"
          ]
        }
      ]
    },
    {
      "cell_type": "code",
      "source": [
        "mn_arr=d_arr.mean(axis=0)\n",
        "print(mn_arr)\n",
        "mx_arr=d_arr.max(axis=0)\n",
        "print(mx_arr)\n",
        "sm_arr=d_arr.sum(axis=0)\n",
        "print(sm_arr)"
      ],
      "metadata": {
        "colab": {
          "base_uri": "https://localhost:8080/"
        },
        "id": "V4TxRM483zpO",
        "outputId": "b6ddf876-cb79-42b6-dda3-9a6a01867e74"
      },
      "execution_count": 23,
      "outputs": [
        {
          "output_type": "stream",
          "name": "stdout",
          "text": [
            "[50.  60.  39.  54.2]\n",
            "[94 85 65 93]\n",
            "[250 300 195 271]\n"
          ]
        }
      ]
    },
    {
      "cell_type": "code",
      "source": [
        "mask=(d_arr>mn_arr)\n",
        "filtered_arr=np.where(mask,d_arr,False)\n",
        "print(filtered_arr)"
      ],
      "metadata": {
        "colab": {
          "base_uri": "https://localhost:8080/"
        },
        "id": "Th2EudOU4yeV",
        "outputId": "55ed3136-18ba-44a5-baa7-d0c8cb9bba56"
      },
      "execution_count": 24,
      "outputs": [
        {
          "output_type": "stream",
          "name": "stdout",
          "text": [
            "[[94 85  0  0]\n",
            " [ 0  0 46  0]\n",
            " [ 0 69  0 93]\n",
            " [ 0 64 65  0]\n",
            " [66  0 40 71]]\n"
          ]
        }
      ]
    },
    {
      "cell_type": "markdown",
      "source": [
        "# **PART 3**"
      ],
      "metadata": {
        "id": "VBdaY7kRAmWq"
      }
    },
    {
      "cell_type": "code",
      "source": [
        "zero=0\n",
        "first=1\n",
        "print(zero)\n",
        "print(first)\n",
        "\n",
        "while(True):\n",
        "  result=zero+first\n",
        "  if(result>100):\n",
        "    break\n",
        "  else:\n",
        "    print(result)\n",
        "    zero=first\n",
        "    first=result"
      ],
      "metadata": {
        "colab": {
          "base_uri": "https://localhost:8080/"
        },
        "id": "clQGOQI5-Efj",
        "outputId": "dbf50ff4-fa6f-44b8-efda-d5ed0eb7ff21"
      },
      "execution_count": 25,
      "outputs": [
        {
          "output_type": "stream",
          "name": "stdout",
          "text": [
            "0\n",
            "1\n",
            "1\n",
            "2\n",
            "3\n",
            "5\n",
            "8\n",
            "13\n",
            "21\n",
            "34\n",
            "55\n",
            "89\n"
          ]
        }
      ]
    },
    {
      "cell_type": "code",
      "source": [
        "for i in range(1,51):\n",
        "  if(i%3==0 and i%5==0):\n",
        "    print('FizzBuzz')\n",
        "  elif(i%3==0):\n",
        "    print('Fizz')\n",
        "  elif(i%5==0):\n",
        "    print('Buzz')"
      ],
      "metadata": {
        "colab": {
          "base_uri": "https://localhost:8080/"
        },
        "id": "9n9irX8mBMga",
        "outputId": "0e94439c-5fff-45ba-828e-15db0fac7789"
      },
      "execution_count": 26,
      "outputs": [
        {
          "output_type": "stream",
          "name": "stdout",
          "text": [
            "Fizz\n",
            "Buzz\n",
            "Fizz\n",
            "Fizz\n",
            "Buzz\n",
            "Fizz\n",
            "FizzBuzz\n",
            "Fizz\n",
            "Buzz\n",
            "Fizz\n",
            "Fizz\n",
            "Buzz\n",
            "Fizz\n",
            "FizzBuzz\n",
            "Fizz\n",
            "Buzz\n",
            "Fizz\n",
            "Fizz\n",
            "Buzz\n",
            "Fizz\n",
            "FizzBuzz\n",
            "Fizz\n",
            "Buzz\n"
          ]
        }
      ]
    },
    {
      "cell_type": "code",
      "source": [
        "\n",
        "user=input()\n",
        "num=list(map(int,user.split()))\n",
        "num.sort()\n",
        "if (len(num)%2==0):\n",
        "  print((num[len(num)//2-1]+num[len(num)//2])/2)\n",
        "else:\n",
        "  print(num[len(num)//2])"
      ],
      "metadata": {
        "colab": {
          "base_uri": "https://localhost:8080/"
        },
        "id": "2tXmFClrB39Z",
        "outputId": "d752cd13-2d4a-4cd4-ad0c-6d13a663bbbe"
      },
      "execution_count": 27,
      "outputs": [
        {
          "output_type": "stream",
          "name": "stdout",
          "text": [
            "2 3 4 1 5\n",
            "3\n"
          ]
        }
      ]
    },
    {
      "cell_type": "code",
      "source": [
        "b=int(input())\n",
        "a=1\n",
        "try:\n",
        "  print(a/b)\n",
        "except:\n",
        "  print('ERROR')"
      ],
      "metadata": {
        "colab": {
          "base_uri": "https://localhost:8080/"
        },
        "id": "CNnCGJEjFmtF",
        "outputId": "dafade16-67c0-4b9d-af81-502a26b78929"
      },
      "execution_count": 28,
      "outputs": [
        {
          "output_type": "stream",
          "name": "stdout",
          "text": [
            "0\n",
            "ERROR\n"
          ]
        }
      ]
    },
    {
      "cell_type": "markdown",
      "source": [
        "# **PART 4**"
      ],
      "metadata": {
        "id": "kyklzPhuXFun"
      }
    },
    {
      "cell_type": "code",
      "source": [
        "arr_3d=np.random.randint(1,100,size=(2,3,4))\n",
        "print(arr_3d)"
      ],
      "metadata": {
        "colab": {
          "base_uri": "https://localhost:8080/"
        },
        "id": "MyQ5lZw6M5Hd",
        "outputId": "77d57a9f-50ff-4dd1-e0f5-888b2ef3ddb9"
      },
      "execution_count": 29,
      "outputs": [
        {
          "output_type": "stream",
          "name": "stdout",
          "text": [
            "[[[ 5 60 55 60]\n",
            "  [ 4 44 36 51]\n",
            "  [34 74 62 44]]\n",
            "\n",
            " [[44 43 17 64]\n",
            "  [75 30 61 74]\n",
            "  [55 50 70 51]]]\n"
          ]
        }
      ]
    },
    {
      "cell_type": "code",
      "source": [
        "swapped=arr_3d.swapaxes(0,2)\n",
        "print(swapped)"
      ],
      "metadata": {
        "colab": {
          "base_uri": "https://localhost:8080/"
        },
        "id": "Gx3oB_aqNW7e",
        "outputId": "e7d14e31-08cf-4386-b75f-d51d98abf742"
      },
      "execution_count": 30,
      "outputs": [
        {
          "output_type": "stream",
          "name": "stdout",
          "text": [
            "[[[ 5 44]\n",
            "  [ 4 75]\n",
            "  [34 55]]\n",
            "\n",
            " [[60 43]\n",
            "  [44 30]\n",
            "  [74 50]]\n",
            "\n",
            " [[55 17]\n",
            "  [36 61]\n",
            "  [62 70]]\n",
            "\n",
            " [[60 64]\n",
            "  [51 74]\n",
            "  [44 51]]]\n"
          ]
        }
      ]
    },
    {
      "cell_type": "code",
      "source": [
        "summed=arr_3d.sum(axis=1)\n",
        "print(summed)"
      ],
      "metadata": {
        "colab": {
          "base_uri": "https://localhost:8080/"
        },
        "id": "G_0edZ1EXn2r",
        "outputId": "66b45906-0aaa-439f-843c-967958750fa5"
      },
      "execution_count": 31,
      "outputs": [
        {
          "output_type": "stream",
          "name": "stdout",
          "text": [
            "[[ 43 178 153 155]\n",
            " [174 123 148 189]]\n"
          ]
        }
      ]
    },
    {
      "cell_type": "code",
      "source": [
        "last_arr=np.random.randint(1,100,size=(5,5))\n",
        "print(last_arr)\n",
        "row_vec=np.array([1,2,3,4,5])\n",
        "last_arr=last_arr+row_vec\n",
        "print(last_arr)"
      ],
      "metadata": {
        "colab": {
          "base_uri": "https://localhost:8080/"
        },
        "id": "cgpBoStRXvdy",
        "outputId": "9934dd6b-3f80-4044-bb20-2ebb84cf3100"
      },
      "execution_count": 33,
      "outputs": [
        {
          "output_type": "stream",
          "name": "stdout",
          "text": [
            "[[64 10 36 11 93]\n",
            " [66 14 99 33 65]\n",
            " [88  6 22 79 69]\n",
            " [ 8 85 31  1 29]\n",
            " [61  4 58 62 20]]\n",
            "[[ 65  12  39  15  98]\n",
            " [ 67  16 102  37  70]\n",
            " [ 89   8  25  83  74]\n",
            " [  9  87  34   5  34]\n",
            " [ 62   6  61  66  25]]\n"
          ]
        }
      ]
    },
    {
      "cell_type": "code",
      "source": [],
      "metadata": {
        "id": "tLwdTL6AZiZL"
      },
      "execution_count": null,
      "outputs": []
    }
  ]
}